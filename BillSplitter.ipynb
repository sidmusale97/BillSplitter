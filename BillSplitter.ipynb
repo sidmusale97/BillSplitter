{
 "cells": [
  {
   "cell_type": "code",
   "execution_count": 1,
   "metadata": {},
   "outputs": [],
   "source": [
    "import numpy as np\n",
    "import pandas as pd"
   ]
  },
  {
   "cell_type": "code",
   "execution_count": 2,
   "metadata": {},
   "outputs": [],
   "source": [
    "class BillSplitter:\n",
    "    \n",
    "    def __init__(self, names=None):\n",
    "        self.totals = dict()\n",
    "        self.items = dict()\n",
    "        if (names):\n",
    "            for n in names:\n",
    "                self.totals[n] = 0.0\n",
    "        self.subtotal = 0.0\n",
    "        self.tax = 0.0\n",
    "        self.tip = 0.0\n",
    "                \n",
    "    def addPeople(self, names):\n",
    "        names = [n.lower() for n in names]\n",
    "        for name in names:\n",
    "            if (name not in self.totals):\n",
    "                self.totals[name] = 0.0\n",
    "                self.items[name] = []\n",
    "                \n",
    "    def addItemToPerson(self, item, person, price):\n",
    "        person = person.lower()\n",
    "        try:\n",
    "            self.totals[person] += price\n",
    "            self.items[person].append((item, price))\n",
    "        except:\n",
    "            print('%s has not been added to the bill. Please add this person first' % person)\n",
    "            \n",
    "        \n",
    "    def addItems(self, itemInfos):\n",
    "        for itemInfo in itemInfos:\n",
    "            for person in itemInfo.splitAmongst:        \n",
    "                self.addItemToPerson(itemInfo.name, person, float(itemInfo.price/len(itemInfo.splitAmongst)))\n",
    "                \n",
    "    def __str__(self):\n",
    "        print('Item price break down')\n",
    "        for person in self.items:\n",
    "            print(\"%s's Bill\" % person)\n",
    "            itemprices = pd.DataFrame(self.items[person],columns=['name', 'price'])\n",
    "            print(itemprices)\n",
    "            print(itemprices['price'].sum())\n",
    "            print()\n",
    "            \n",
    "        return \"\"\n",
    "            \n",
    "        \n",
    "    def clearBill(self):\n",
    "        self.__init__()\n",
    "        \n",
    "    def addTaxTip(self, tax, tip):\n",
    "        self.tax = tax\n",
    "        self.tip = tip\n",
    "        subtotal = sum(self.totals.values())\n",
    "        self.subtotal = subtotal\n",
    "        for person in self.totals:\n",
    "            percent = self.totals[person]/subtotal\n",
    "            taxP = percent * tax\n",
    "            tipP = percent * tip\n",
    "            self.addItemToPerson('tip', person, tipP)\n",
    "            self.addItemToPerson('tax', person, taxP) \n",
    "    \n",
    "class ItemInfo:\n",
    "    def __init__(self, price, splitAmongst, name=''):\n",
    "        self.name = name\n",
    "        self.price = float(price)\n",
    "        self.splitAmongst = splitAmongst\n",
    "        \n",
    "      \n",
    "def itemsLoad(bill):\n",
    "    items = []  \n",
    "    name = input('Enter item name')\n",
    "    if (not name):\n",
    "        return\n",
    "    else:\n",
    "        while (name):\n",
    "            itemPrice = input('Price: ')\n",
    "            splitAmongst = input('Split Amongst: ')\n",
    "            item = ItemInfo(itemPrice, splitAmongst.split(','), name)\n",
    "            bill.addItems([item])\n",
    "            name = input('Enter item name: ')\n",
    "    return items\n",
    "\n",
    "bill = BillSplitter()\n",
    "bill.addPeople(['s','d', 'b'])"
   ]
  },
  {
   "cell_type": "code",
   "execution_count": 3,
   "metadata": {},
   "outputs": [
    {
     "name": "stdout",
     "output_type": "stream",
     "text": [
      "Item price break down\n",
      "s's Bill\n",
      "        name  price\n",
      "0    raviloi    6.0\n",
      "1  swithwick    8.0\n",
      "2    sampler    7.0\n",
      "3    magners    7.0\n",
      "28.0\n",
      "\n",
      "d's Bill\n",
      "      name  price\n",
      "0  raviloi    6.0\n",
      "1     wine   18.0\n",
      "2  sampler    7.0\n",
      "31.0\n",
      "\n",
      "b's Bill\n",
      "      name  price\n",
      "0  magners    7.0\n",
      "1      lag    8.0\n",
      "15.0\n",
      "\n",
      "\n"
     ]
    }
   ],
   "source": [
    "itemsLoad(bill)\n",
    "print(bill)"
   ]
  },
  {
   "cell_type": "code",
   "execution_count": 4,
   "metadata": {},
   "outputs": [
    {
     "name": "stdout",
     "output_type": "stream",
     "text": [
      "Item price break down\n",
      "s's Bill\n",
      "        name     price\n",
      "0    raviloi  6.000000\n",
      "1  swithwick  8.000000\n",
      "2    sampler  7.000000\n",
      "3    magners  7.000000\n",
      "4        tip  5.554595\n",
      "5        tax  3.526486\n",
      "37.08108108108108\n",
      "\n",
      "d's Bill\n",
      "      name      price\n",
      "0  raviloi   6.000000\n",
      "1     wine  18.000000\n",
      "2  sampler   7.000000\n",
      "3      tip   6.149730\n",
      "4      tax   3.904324\n",
      "41.054054054054056\n",
      "\n",
      "b's Bill\n",
      "      name     price\n",
      "0  magners  7.000000\n",
      "1      lag  8.000000\n",
      "2      tip  2.975676\n",
      "3      tax  1.889189\n",
      "19.864864864864867\n",
      "\n",
      "\n"
     ]
    }
   ],
   "source": [
    "bill.addTaxTip(9.32, 110-95.32 )\n",
    "print(bill)"
   ]
  },
  {
   "cell_type": "code",
   "execution_count": 5,
   "metadata": {},
   "outputs": [],
   "source": [
    "bill.clearBill()"
   ]
  },
  {
   "cell_type": "code",
   "execution_count": 15,
   "metadata": {},
   "outputs": [
    {
     "data": {
      "text/plain": [
       "array([131.1, 208.8, 266.7, 306.3, 371.2])"
      ]
     },
     "execution_count": 15,
     "metadata": {},
     "output_type": "execute_result"
    }
   ],
   "source": [
    "rev = np.array([298, 454, 523, 589, 640])\n",
    "precent = np.array([.27, .16, .24, .18, .13])\n",
    "exp = np.array([166.9, 245.2, 256.3, 282.7, 268.8])\n",
    "rev - exp"
   ]
  },
  {
   "cell_type": "code",
   "execution_count": 14,
   "metadata": {},
   "outputs": [
    {
     "data": {
      "text/plain": [
       "326.4"
      ]
     },
     "execution_count": 14,
     "metadata": {},
     "output_type": "execute_result"
    }
   ],
   "source": []
  },
  {
   "cell_type": "code",
   "execution_count": null,
   "metadata": {},
   "outputs": [],
   "source": []
  }
 ],
 "metadata": {
  "interpreter": {
   "hash": "616ef8616ef163d775fb915a9978cee996561561a28ff8747dbd5e2adac0d62e"
  },
  "kernelspec": {
   "display_name": "Python 3.7.4 64-bit",
   "name": "python3"
  },
  "language_info": {
   "codemirror_mode": {
    "name": "ipython",
    "version": 3
   },
   "file_extension": ".py",
   "mimetype": "text/x-python",
   "name": "python",
   "nbconvert_exporter": "python",
   "pygments_lexer": "ipython3",
   "version": "3.7.4"
  },
  "metadata": {
   "interpreter": {
    "hash": "616ef8616ef163d775fb915a9978cee996561561a28ff8747dbd5e2adac0d62e"
   }
  }
 },
 "nbformat": 4,
 "nbformat_minor": 4
}
